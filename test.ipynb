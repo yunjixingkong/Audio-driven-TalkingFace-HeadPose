{
 "cells": [
  {
   "cell_type": "code",
   "execution_count": null,
   "metadata": {},
   "outputs": [],
   "source": [
    "\n",
    "import minio\n",
    "from minio import Minio\n",
    "from minio.datatypes import PostPolicy\n",
    "import datetime \n",
    "endpoint = \"192.168.2.2:9000/\"\n",
    "access_key=\"minioadmin\"\n",
    "secret_key=\"minioadmin\"\n",
    "\n",
    "policy = PostPolicy(\n",
    "    \"testpriv\", datetime.datetime.utcnow() + datetime.timedelta(days=10),\n",
    ")\n",
    "policy.add_starts_with_condition(\"key\", \"test1.py\")\n",
    "# policy.add_content_length_range_condition(\n",
    "#     1*1024*1024, 10*1024*1024,\n",
    "# )\n",
    "# form_data = client.presigned_post_policy(policy)\n",
    "\n",
    "\n",
    "minioClient=Minio(endpoint=endpoint, access_key=access_key, secret_key= secret_key, secure= False, region=\"shanghai\")\n",
    "signed_form_data = minioClient.presigned_post_policy(policy)\n",
    "print(signed_form_data)\n",
    "url = minioClient.get_presigned_url( \"PUT\",\n",
    "        'testpriv',  \n",
    "        'video.mp4',  \n",
    "        expires=datetime.timedelta(days=1)    \n",
    "    )\n",
    "print(url)"
   ]
  },
  {
   "cell_type": "code",
   "execution_count": null,
   "metadata": {},
   "outputs": [],
   "source": [
    "import requests\n",
    "\n",
    "filename = './batch_run.py'\n",
    "hash_v = 'assumethisisahash'\n",
    "\n",
    "with open(filename, 'rb') as file:\n",
    "    response = requests.put(url, data=file)\n",
    "    response.raise_for_status()\n",
    "\n",
    "\n",
    "#这是一种流式上传的方式\n",
    "# with open(filename, 'rb') as f:\n",
    "#     response=requests.post(url, files={'file':f, 'filename': \"test1.py\"})\n",
    "#     response.raise_for_status()"
   ]
  },
  {
   "cell_type": "code",
   "execution_count": null,
   "metadata": {},
   "outputs": [],
   "source": [
    "\n",
    "\n",
    "from minio import Minio\n",
    "import datetime\n",
    "endpoint = \"192.168.2.2:9000/\"\n",
    "access_key=\"minioadmin\"\n",
    "secret_key=\"minioadmin\"\n",
    "\n",
    "minioClient=Minio(endpoint=endpoint, access_key=access_key, secret_key= secret_key, secure= False, region=\"shanghai\")\n",
    "url = minioClient.presigned_get_object( \n",
    "        'testpriv',  \n",
    "        'test1.py',  \n",
    "        expires=datetime.timedelta(days=1)    \n",
    "    )\n",
    "print(url)"
   ]
  },
  {
   "cell_type": "code",
   "execution_count": null,
   "metadata": {},
   "outputs": [],
   "source": [
    "\n",
    "\n",
    "from minio import Minio\n",
    "import datetime\n",
    "endpoint = \"192.168.2.2:9000/\"\n",
    "access_key=\"minioadmin\"\n",
    "secret_key=\"minioadmin\"\n",
    "\n",
    "minioClient=Minio(endpoint=endpoint, access_key=access_key, secret_key= secret_key, secure= False, region=\"shanghai\")\n",
    "url = minioClient.presigned_get_object( \n",
    "        'testpriv',  \n",
    "        'test1.py',  \n",
    "        expires=datetime.timedelta(days=1)    \n",
    "    )\n",
    "print(url)"
   ]
  },
  {
   "cell_type": "code",
   "execution_count": null,
   "metadata": {},
   "outputs": [],
   "source": [
    "\n",
    "\n",
    "from minio import Minio\n",
    "import datetime\n",
    "endpoint = \"192.168.2.2:9000/\"\n",
    "access_key=\"minioadmin\"\n",
    "secret_key=\"minioadmin\"\n",
    "\n",
    "minioClient=Minio(endpoint=endpoint, access_key=access_key, secret_key= secret_key, secure= False, region=\"shanghai\")\n",
    "url = minioClient.presigned_get_object( \n",
    "        'testpriv',  \n",
    "        'test1.py',  \n",
    "        expires=datetime.timedelta(days=1)    \n",
    "    )\n",
    "print(url)"
   ]
  },
  {
   "cell_type": "code",
   "execution_count": null,
   "metadata": {},
   "outputs": [],
   "source": [
    "\n",
    "\n",
    "from minio import Minio\n",
    "import datetime\n",
    "endpoint = \"192.168.2.2:9000/\"\n",
    "access_key=\"minioadmin\"\n",
    "secret_key=\"minioadmin\"\n",
    "\n",
    "minioClient=Minio(endpoint=endpoint, access_key=access_key, secret_key= secret_key, secure= False, region=\"shanghai\")\n",
    "url = minioClient.presigned_get_object( \n",
    "        'testpriv',  \n",
    "        'test1.py',  \n",
    "        expires=datetime.timedelta(days=1)    \n",
    "    )\n",
    "print(url)"
   ]
  },
  {
   "cell_type": "code",
   "execution_count": null,
   "metadata": {},
   "outputs": [],
   "source": [
    "\n",
    "\n",
    "from minio import Minio\n",
    "import datetime\n",
    "endpoint = \"192.168.2.2:9000/\"\n",
    "access_key=\"minioadmin\"\n",
    "secret_key=\"minioadmin\"\n",
    "\n",
    "minioClient=Minio(endpoint=endpoint, access_key=access_key, secret_key= secret_key, secure= False, region=\"shanghai\")\n",
    "url = minioClient.presigned_get_object( \n",
    "        'testpriv',  \n",
    "        'test1.py',  \n",
    "        expires=datetime.timedelta(days=1)    \n",
    "    )\n",
    "print(url)"
   ]
  },
  {
   "cell_type": "code",
   "execution_count": null,
   "metadata": {},
   "outputs": [],
   "source": [
    "\n",
    "\n",
    "from minio import Minio\n",
    "import datetime\n",
    "endpoint = \"192.168.2.2:9000/\"\n",
    "access_key=\"minioadmin\"\n",
    "secret_key=\"minioadmin\"\n",
    "\n",
    "minioClient=Minio(endpoint=endpoint, access_key=access_key, secret_key= secret_key, secure= False, region=\"shanghai\")\n",
    "url = minioClient.presigned_get_object( \n",
    "        'testpriv',  \n",
    "        'test1.py',  \n",
    "        expires=datetime.timedelta(days=1)    \n",
    "    )\n",
    "print(url)"
   ]
  },
  {
   "cell_type": "code",
   "execution_count": null,
   "metadata": {},
   "outputs": [],
   "source": [
    "\n",
    "\n",
    "from minio import Minio\n",
    "import datetime\n",
    "endpoint = \"192.168.2.2:9000/\"\n",
    "access_key=\"minioadmin\"\n",
    "secret_key=\"minioadmin\"\n",
    "\n",
    "minioClient=Minio(endpoint=endpoint, access_key=access_key, secret_key= secret_key, secure= False, region=\"shanghai\")\n",
    "url = minioClient.presigned_get_object( \n",
    "        'testpriv',  \n",
    "        'test1.py',  \n",
    "        expires=datetime.timedelta(days=1)    \n",
    "    )\n",
    "print(url)"
   ]
  },
  {
   "cell_type": "code",
   "execution_count": null,
   "metadata": {},
   "outputs": [],
   "source": [
    "from helper import upload_with_put, upload_with_post\n",
    "\n",
    "upload_with_post(local_file=\"./batch_run.py\",url=url)"
   ]
  },
  {
   "cell_type": "code",
   "execution_count": 8,
   "metadata": {},
   "outputs": [
    {
     "name": "stdout",
     "output_type": "stream",
     "text": [
      "coeff len: 257\n",
      "coeff len: [[-2.28936923 -0.71647083]\n",
      " [-6.84725072 -0.71647083]\n",
      " [-4.31101021 -3.5100111 ]\n",
      " [-2.5834261  -5.6051663 ]\n",
      " [-6.7369794  -5.42138076]]\n",
      "[-4.55360713 -3.19389997]\n"
     ]
    }
   ],
   "source": [
    "import numpy as np\n",
    "from scipy.io import loadmat\n",
    "\n",
    "\n",
    "temp = np.load(\"./Data/2/transbig.npy\")\n",
    "# print(temp.shape)\n",
    "# print(temp)\n",
    "\n",
    "mat=loadmat(\"./Deep3DFaceReconstruction/output/coeff/19_news/1/frame320.mat\")\n",
    "print(f'coeff len: {len(mat[\"coeff\"][0])}')\n",
    "print(f'coeff len: {mat[\"lm_5p\"]}')\n",
    "\n",
    "mean=np.mean(mat['lm_5p'],axis=0)\n",
    "print(mean)"
   ]
  },
  {
   "cell_type": "code",
   "execution_count": 14,
   "metadata": {},
   "outputs": [
    {
     "name": "stdout",
     "output_type": "stream",
     "text": [
      "104608\n",
      "[[485. 462.]\n",
      " [616. 465.]\n",
      " [549. 566.]\n",
      " [498. 607.]\n",
      " [597. 610.]]\n",
      "[[ 81.00995747  86.63055305]\n",
      " [143.74163175  88.06715627]\n",
      " [111.657493   136.43279828]\n",
      " [ 87.23523812 156.06637573]\n",
      " [134.64314464 157.50297896]]\n",
      "[1080 1920 0.4788677426319974 array([549.90022356]) array([1406.55514461])]\n"
     ]
    }
   ],
   "source": [
    "from scipy.io import loadmat,savemat\n",
    "from PIL import Image\n",
    "from Deep3DFaceReconstruction.preprocess_img import Preprocess\n",
    "\n",
    "def load_lm3d():\n",
    "\tLm3D = loadmat('./Deep3DFaceReconstruction//BFM/similarity_Lm3D_all.mat')\n",
    "\tLm3D = Lm3D['lm']\n",
    "\t# calculate 5 facial landmarks using 68 landmarks\n",
    "\tlm_idx = np.array([31,37,40,43,46,49,55]) - 1\n",
    "\tLm3D = np.stack([Lm3D[lm_idx[0],:],np.mean(Lm3D[lm_idx[[1,2]],:],0),np.mean(Lm3D[lm_idx[[3,4]],:],0),Lm3D[lm_idx[5],:],Lm3D[lm_idx[6],:]], axis = 0)\n",
    "\tLm3D = Lm3D[[1,2,0,3,4],:]\n",
    "\n",
    "\treturn Lm3D\n",
    "\n",
    "lm3D = load_lm3d()\n",
    "\n",
    "# load input images and corresponding 5 landmarks\n",
    "def load_img(img_path,lm_path):\n",
    "\timage = Image.open(img_path)\n",
    "\tlm = np.loadtxt(lm_path)\n",
    "\n",
    "\treturn image,lm\n",
    "file = \"./Data/2/frame0.png\"\n",
    "img,lm = load_img(file,file[:-4]+'.txt')\n",
    "input_img,lm_new,transform_params = Preprocess(img,lm,lm3D) \n",
    "\n",
    "print(round(224*467))\n",
    "\n",
    "print(lm)\n",
    "print(lm_new)\n",
    "print(transform_params)"
   ]
  },
  {
   "cell_type": "code",
   "execution_count": 59,
   "metadata": {},
   "outputs": [
    {
     "ename": "RuntimeError",
     "evalue": "Unable to open ../model/dlib/shape_predictor_81_face_landmarks.dat",
     "output_type": "error",
     "traceback": [
      "\u001b[0;31m---------------------------------------------------------------------------\u001b[0m",
      "\u001b[0;31mRuntimeError\u001b[0m                              Traceback (most recent call last)",
      "\u001b[0;32m/tmp/ipykernel_613352/1145645274.py\u001b[0m in \u001b[0;36m<module>\u001b[0;34m\u001b[0m\n\u001b[1;32m      3\u001b[0m \u001b[0;32mimport\u001b[0m \u001b[0msys\u001b[0m\u001b[0;34m\u001b[0m\u001b[0;34m\u001b[0m\u001b[0m\n\u001b[1;32m      4\u001b[0m \u001b[0msys\u001b[0m\u001b[0;34m.\u001b[0m\u001b[0mpath\u001b[0m\u001b[0;34m.\u001b[0m\u001b[0mappend\u001b[0m\u001b[0;34m(\u001b[0m\u001b[0;34m\"./Audio/code\"\u001b[0m\u001b[0;34m)\u001b[0m\u001b[0;34m\u001b[0m\u001b[0;34m\u001b[0m\u001b[0m\n\u001b[0;32m----> 5\u001b[0;31m \u001b[0;32mfrom\u001b[0m \u001b[0mAudio\u001b[0m\u001b[0;34m.\u001b[0m\u001b[0mcode\u001b[0m\u001b[0;34m.\u001b[0m\u001b[0morgan_swich\u001b[0m \u001b[0;32mimport\u001b[0m \u001b[0maffine_matrix\u001b[0m\u001b[0;34m,\u001b[0m \u001b[0mget_organ_mask_landmarks\u001b[0m\u001b[0;34m,\u001b[0m \u001b[0mwarp_im\u001b[0m\u001b[0;34m,\u001b[0m \u001b[0mcorrect_colours\u001b[0m\u001b[0;34m\u001b[0m\u001b[0;34m\u001b[0m\u001b[0m\n\u001b[0m\u001b[1;32m      6\u001b[0m \u001b[0;32mfrom\u001b[0m \u001b[0mAudio\u001b[0m\u001b[0;34m.\u001b[0m\u001b[0mcode\u001b[0m\u001b[0;34m.\u001b[0m\u001b[0mmask\u001b[0m \u001b[0;32mimport\u001b[0m \u001b[0malign\u001b[0m\u001b[0;34m,\u001b[0m\u001b[0mread_im_and_landmarks\u001b[0m\u001b[0;34m,\u001b[0m \u001b[0mdlib_path\u001b[0m\u001b[0;34m\u001b[0m\u001b[0;34m\u001b[0m\u001b[0m\n\u001b[1;32m      7\u001b[0m \u001b[0mdlib_path\u001b[0m\u001b[0;34m=\u001b[0m\u001b[0;34m'./Audio/model/dlib/shape_predictor_81_face_landmarks.dat'\u001b[0m\u001b[0;34m\u001b[0m\u001b[0;34m\u001b[0m\u001b[0m\n",
      "\u001b[0;32m/data/develop/src/Audio-driven-TalkingFace-HeadPose/Audio/code/organ_swich.py\u001b[0m in \u001b[0;36m<module>\u001b[0;34m\u001b[0m\n\u001b[1;32m      2\u001b[0m \u001b[0;32mimport\u001b[0m \u001b[0mnumpy\u001b[0m \u001b[0;32mas\u001b[0m \u001b[0mnp\u001b[0m\u001b[0;34m\u001b[0m\u001b[0;34m\u001b[0m\u001b[0m\n\u001b[1;32m      3\u001b[0m \u001b[0;34m\u001b[0m\u001b[0m\n\u001b[0;32m----> 4\u001b[0;31m \u001b[0;32mfrom\u001b[0m \u001b[0mmask\u001b[0m \u001b[0;32mimport\u001b[0m \u001b[0mget_organ_mask\u001b[0m \u001b[0;34m,\u001b[0m \u001b[0mget_landmark\u001b[0m\u001b[0;34m,\u001b[0m\u001b[0mget_organ_mask_landmarks\u001b[0m\u001b[0;34m,\u001b[0m \u001b[0mleft_eye\u001b[0m\u001b[0;34m,\u001b[0m \u001b[0mright_eye\u001b[0m\u001b[0;34m,\u001b[0m \u001b[0malign\u001b[0m\u001b[0;34m\u001b[0m\u001b[0;34m\u001b[0m\u001b[0m\n\u001b[0m\u001b[1;32m      5\u001b[0m \u001b[0;34m\u001b[0m\u001b[0m\n\u001b[1;32m      6\u001b[0m \u001b[0;34m\u001b[0m\u001b[0m\n",
      "\u001b[0;32m/data/develop/src/Audio-driven-TalkingFace-HeadPose/Audio/code/mask.py\u001b[0m in \u001b[0;36m<module>\u001b[0;34m\u001b[0m\n\u001b[1;32m     13\u001b[0m \u001b[0moptions\u001b[0m \u001b[0;34m=\u001b[0m \u001b[0mdlib\u001b[0m\u001b[0;34m.\u001b[0m\u001b[0mshape_predictor_training_options\u001b[0m\u001b[0;34m(\u001b[0m\u001b[0;34m)\u001b[0m\u001b[0;34m\u001b[0m\u001b[0;34m\u001b[0m\u001b[0m\n\u001b[1;32m     14\u001b[0m \u001b[0moptions\u001b[0m\u001b[0;34m.\u001b[0m\u001b[0mnum_threads\u001b[0m \u001b[0;34m=\u001b[0m \u001b[0;36m16\u001b[0m\u001b[0;34m\u001b[0m\u001b[0;34m\u001b[0m\u001b[0m\n\u001b[0;32m---> 15\u001b[0;31m \u001b[0mpredictor\u001b[0m \u001b[0;34m=\u001b[0m \u001b[0mdlib\u001b[0m\u001b[0;34m.\u001b[0m\u001b[0mshape_predictor\u001b[0m\u001b[0;34m(\u001b[0m\u001b[0mdlib_path\u001b[0m\u001b[0;34m)\u001b[0m\u001b[0;34m\u001b[0m\u001b[0;34m\u001b[0m\u001b[0m\n\u001b[0m\u001b[1;32m     16\u001b[0m \u001b[0melapsed\u001b[0m \u001b[0;34m=\u001b[0m \u001b[0mtimeit\u001b[0m\u001b[0;34m.\u001b[0m\u001b[0mdefault_timer\u001b[0m\u001b[0;34m(\u001b[0m\u001b[0;34m)\u001b[0m \u001b[0;34m-\u001b[0m \u001b[0mstart_time\u001b[0m  \u001b[0;31m# 计算函数执行时长\u001b[0m\u001b[0;34m\u001b[0m\u001b[0;34m\u001b[0m\u001b[0m\n\u001b[1;32m     17\u001b[0m \u001b[0mprint\u001b[0m\u001b[0;34m(\u001b[0m\u001b[0;34mf\"load shape_predictor_81_face_landmarks elapsed {elapsed}\"\u001b[0m\u001b[0;34m)\u001b[0m\u001b[0;34m\u001b[0m\u001b[0;34m\u001b[0m\u001b[0m\n",
      "\u001b[0;31mRuntimeError\u001b[0m: Unable to open ../model/dlib/shape_predictor_81_face_landmarks.dat"
     ]
    }
   ],
   "source": [
    "import dlib\n",
    "import cv2\n",
    "import sys\n",
    "sys.path.append(\"./Audio/code\")\n",
    "from Audio.code.organ_swich import affine_matrix, get_organ_mask_landmarks, warp_im, correct_colours\n",
    "from Audio.code.mask import align,read_im_and_landmarks, dlib_path\n",
    "\n",
    "detector = dlib.get_frontal_face_detector()\n",
    "predictor = dlib.shape_predictor('./Audio/model/dlib/shape_predictor_81_face_landmarks.dat')\n",
    "\n",
    "\n",
    "def get_mask(source, target, landmark1, landmark2, tag):\n",
    "    mask_target = get_organ_mask_landmarks(target, landmark2, tag)\n",
    "    mask_source = get_organ_mask_landmarks(source, landmark1, tag)\n",
    "    combined_mask = np.max([mask_source, mask_target],axis=0)\n",
    "    \n",
    "    return combined_mask\n",
    "\n",
    "source_path='./Data/2/frame2.png'\n",
    "target_path=\"./render-to-video/results/memory_seq_p2p/2/test_60/imagesrseq_2_shengma_full9/R_2_reassign2-00002_blend2_fake.png\"\n",
    "source, landmark1 = read_im_and_landmarks(source_path)\n",
    "target, landmark2 = read_im_and_landmarks(target_path)\n",
    "\n",
    "mask1=get_mask(source=source, target=target, landmark1=landmark2, landmark2=landmark2, tag='mouse')\n",
    "print(mask1)\n",
    "\n",
    "\n",
    "\n",
    "# print(points[0])\n",
    "# cv2.rectangle(image, (int(landmark[48][0]), int(landmark[50][1])), (int(landmark[54][0] ), int(landmark[57][1])), (0, 255, 0), 1)\n",
    "\n",
    "# cv2.imwrite(\"./out.jpg\", image)\n"
   ]
  },
  {
   "cell_type": "code",
   "execution_count": 60,
   "metadata": {},
   "outputs": [
    {
     "name": "stdout",
     "output_type": "stream",
     "text": [
      "(468, 468, 3)\n",
      "<class 'numpy.ndarray'>\n"
     ]
    },
    {
     "data": {
      "text/plain": [
       "True"
      ]
     },
     "execution_count": 60,
     "metadata": {},
     "output_type": "execute_result"
    }
   ],
   "source": [
    "import cv2\n",
    "# seamless clone\n",
    "png_path='./Data/2/frame2.png'\n",
    "# print(png_path)\n",
    "img = cv2.imread(png_path)\n",
    "img1 = cv2.imread(\"./render-to-video/results/memory_seq_p2p/2/test_60/imagesrseq_2_shengma_full9/R_2_reassign2-00002_blend2_fake.png\")\n",
    "img1 = cv2.resize(img1,(468,468),interpolation=cv2.INTER_LANCZOS4)\n",
    "print(img1.shape)\n",
    "# shape=(round(img1.shape[0]/2), round(img1.shape[1]), img1.shape[2])\n",
    "# print(shape)\n",
    "w2=468\n",
    "h2=468\n",
    "t0=316\n",
    "t1=281\n",
    "mask = np.ones(img1.shape,img1.dtype) * 255\n",
    "print(type(mask))\n",
    "# mask[0:234,:,0:3] = 0\n",
    "half=int(h2/2)\n",
    "mask[0:int(h2/2),:,0:3] = 0\n",
    "center = (t0+int(img1.shape[0]/2),t1+int(img1.shape[1]-h2/4))\n",
    "# mask = np.ones(shape,img1.dtype) * 255\n",
    "# center = (316+int(img1.shape[0]/2), 281+int(img1.shape[1]-234/2))\n",
    "\n",
    "output = cv2.seamlessClone(img1,img,mask,center,cv2.NORMAL_CLONE)\n",
    "cv2.imwrite(\"./tmp.jpg\",output)"
   ]
  }
 ],
 "metadata": {
  "kernelspec": {
   "display_name": "base",
   "language": "python",
   "name": "python3"
  },
  "language_info": {
   "codemirror_mode": {
    "name": "ipython",
    "version": 3
   },
   "file_extension": ".py",
   "mimetype": "text/x-python",
   "name": "python",
   "nbconvert_exporter": "python",
   "pygments_lexer": "ipython3",
   "version": "3.7.13"
  },
  "orig_nbformat": 4
 },
 "nbformat": 4,
 "nbformat_minor": 2
}
